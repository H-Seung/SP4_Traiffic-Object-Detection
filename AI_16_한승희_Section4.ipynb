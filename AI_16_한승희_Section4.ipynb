{
  "nbformat": 4,
  "nbformat_minor": 0,
  "metadata": {
    "colab": {
      "provenance": []
    },
    "kernelspec": {
      "name": "python3",
      "display_name": "Python 3"
    },
    "language_info": {
      "name": "python"
    },
    "gpuClass": "standard",
    "accelerator": "GPU"
  },
  "cells": [
    {
      "cell_type": "code",
      "execution_count": 1,
      "metadata": {
        "colab": {
          "base_uri": "https://localhost:8080/"
        },
        "id": "KGW0m5_f9XsP",
        "outputId": "e1a5911f-035f-4a08-e729-0ca0ee543bae"
      },
      "outputs": [
        {
          "output_type": "execute_result",
          "data": {
            "text/plain": [
              "{'annotation': [{'light_count': '1',\n",
              "   'box': [354, 7, 412, 68],\n",
              "   'attribute': [{'red': 'off',\n",
              "     'green': 'on',\n",
              "     'x_light': 'off',\n",
              "     'others_arrow': 'off',\n",
              "     'yellow': 'off',\n",
              "     'left_arrow': 'off'}],\n",
              "   'type': 'car',\n",
              "   'class': 'traffic_light',\n",
              "   'direction': 'vertical'},\n",
              "  {'light_count': '1',\n",
              "   'box': [611, 1, 670, 55],\n",
              "   'attribute': [{'red': 'off',\n",
              "     'green': 'on',\n",
              "     'x_light': 'off',\n",
              "     'others_arrow': 'off',\n",
              "     'yellow': 'off',\n",
              "     'left_arrow': 'off'}],\n",
              "   'type': 'car',\n",
              "   'class': 'traffic_light',\n",
              "   'direction': 'horizontal'},\n",
              "  {'light_count': '1',\n",
              "   'box': [858, 14, 919, 65],\n",
              "   'attribute': [{'red': 'off',\n",
              "     'green': 'on',\n",
              "     'x_light': 'off',\n",
              "     'others_arrow': 'off',\n",
              "     'yellow': 'off',\n",
              "     'left_arrow': 'off'}],\n",
              "   'type': 'car',\n",
              "   'class': 'traffic_light',\n",
              "   'direction': 'horizontal'}],\n",
              " 'image': {'filename': 's01139934.jpg', 'imsize': [1280, 720]}}"
            ]
          },
          "metadata": {},
          "execution_count": 1
        }
      ],
      "source": [
        "js = {\"annotation\":[{\"light_count\":\"1\",\"box\":[354,7,412,68],\"attribute\":[{\"red\":\"off\",\"green\":\"on\",\"x_light\":\"off\",\"others_arrow\":\"off\",\"yellow\":\"off\",\"left_arrow\":\"off\"}],\"type\":\"car\",\"class\":\"traffic_light\",\"direction\":\"vertical\"},{\"light_count\":\"1\",\"box\":[611,1,670,55],\"attribute\":[{\"red\":\"off\",\"green\":\"on\",\"x_light\":\"off\",\"others_arrow\":\"off\",\"yellow\":\"off\",\"left_arrow\":\"off\"}],\"type\":\"car\",\"class\":\"traffic_light\",\"direction\":\"horizontal\"},{\"light_count\":\"1\",\"box\":[858,14,919,65],\"attribute\":[{\"red\":\"off\",\"green\":\"on\",\"x_light\":\"off\",\"others_arrow\":\"off\",\"yellow\":\"off\",\"left_arrow\":\"off\"}],\"type\":\"car\",\"class\":\"traffic_light\",\"direction\":\"horizontal\"}],\"image\":{\"filename\":\"s01139934.jpg\",\"imsize\":[1280,720]}}\n",
        "js"
      ]
    },
    {
      "cell_type": "code",
      "source": [
        "for d in js['annotation']:\n",
        "    print(d)\n",
        "    # x0,y0,x1,y1 = d[\"box\"]  "
      ],
      "metadata": {
        "colab": {
          "base_uri": "https://localhost:8080/"
        },
        "id": "CkqPc-NThRXe",
        "outputId": "fe67cdb7-f515-43aa-bfd9-e6467b2eaffd"
      },
      "execution_count": 2,
      "outputs": [
        {
          "output_type": "stream",
          "name": "stdout",
          "text": [
            "{'light_count': '1', 'box': [354, 7, 412, 68], 'attribute': [{'red': 'off', 'green': 'on', 'x_light': 'off', 'others_arrow': 'off', 'yellow': 'off', 'left_arrow': 'off'}], 'type': 'car', 'class': 'traffic_light', 'direction': 'vertical'}\n",
            "{'light_count': '1', 'box': [611, 1, 670, 55], 'attribute': [{'red': 'off', 'green': 'on', 'x_light': 'off', 'others_arrow': 'off', 'yellow': 'off', 'left_arrow': 'off'}], 'type': 'car', 'class': 'traffic_light', 'direction': 'horizontal'}\n",
            "{'light_count': '1', 'box': [858, 14, 919, 65], 'attribute': [{'red': 'off', 'green': 'on', 'x_light': 'off', 'others_arrow': 'off', 'yellow': 'off', 'left_arrow': 'off'}], 'type': 'car', 'class': 'traffic_light', 'direction': 'horizontal'}\n"
          ]
        }
      ]
    },
    {
      "cell_type": "markdown",
      "source": [
        "# 1) Setup"
      ],
      "metadata": {
        "id": "JwtobbDEX7L7"
      }
    },
    {
      "cell_type": "code",
      "source": [
        "import os\n",
        "import gc\n",
        "import cv2\n",
        "import numpy as np\n",
        "import pandas as pd\n",
        "from PIL import Image\n",
        "from IPython.display import Image\n",
        "from tqdm import tqdm\n",
        "import json\n",
        "import yaml\n",
        "import shutil\n",
        "import matplotlib.pyplot as plt\n",
        "from sklearn.model_selection import train_test_split"
      ],
      "metadata": {
        "id": "mnlcR9Qfwg1E"
      },
      "execution_count": 3,
      "outputs": []
    },
    {
      "cell_type": "code",
      "source": [
        "!git clone https://github.com/ultralytics/yolov5  # clone\n",
        "%cd yolov5\n",
        "%pip install -qr requirements.txt  # install"
      ],
      "metadata": {
        "colab": {
          "base_uri": "https://localhost:8080/"
        },
        "id": "A3HVo5zX-kNO",
        "outputId": "ed938274-a786-4bd1-b5bc-cc1a685c54cb"
      },
      "execution_count": 4,
      "outputs": [
        {
          "output_type": "stream",
          "name": "stdout",
          "text": [
            "Cloning into 'yolov5'...\n",
            "remote: Enumerating objects: 15078, done.\u001b[K\n",
            "remote: Counting objects: 100% (3/3), done.\u001b[K\n",
            "remote: Compressing objects: 100% (3/3), done.\u001b[K\n",
            "remote: Total 15078 (delta 0), reused 0 (delta 0), pack-reused 15075\u001b[K\n",
            "Receiving objects: 100% (15078/15078), 14.12 MiB | 9.88 MiB/s, done.\n",
            "Resolving deltas: 100% (10337/10337), done.\n",
            "/content/yolov5\n",
            "\u001b[2K     \u001b[90m━━━━━━━━━━━━━━━━━━━━━━━━━━━━━━━━━━━━━━\u001b[0m \u001b[32m184.0/184.0 KB\u001b[0m \u001b[31m12.2 MB/s\u001b[0m eta \u001b[36m0:00:00\u001b[0m\n",
            "\u001b[2K     \u001b[90m━━━━━━━━━━━━━━━━━━━━━━━━━━━━━━━━━━━━━━━━\u001b[0m \u001b[32m62.7/62.7 KB\u001b[0m \u001b[31m4.0 MB/s\u001b[0m eta \u001b[36m0:00:00\u001b[0m\n",
            "\u001b[2K     \u001b[90m━━━━━━━━━━━━━━━━━━━━━━━━━━━━━━━━━━━━━━━━\u001b[0m \u001b[32m1.6/1.6 MB\u001b[0m \u001b[31m24.4 MB/s\u001b[0m eta \u001b[36m0:00:00\u001b[0m\n",
            "\u001b[?25h"
          ]
        }
      ]
    },
    {
      "cell_type": "code",
      "source": [
        "import torch\n",
        "from IPython.display import Image, clear_output\n",
        "print(f\"Setup complete. Using torch {torch.__version__} ({torch.cuda.get_device_properties(0).name if torch.cuda.is_available() else 'CPU'})\")"
      ],
      "metadata": {
        "colab": {
          "base_uri": "https://localhost:8080/"
        },
        "id": "2WidfKJr8SKv",
        "outputId": "48075244-2aa3-4026-a203-c91818fa8454"
      },
      "execution_count": 5,
      "outputs": [
        {
          "output_type": "stream",
          "name": "stdout",
          "text": [
            "Setup complete. Using torch 1.13.1+cu116 (Tesla T4)\n"
          ]
        }
      ]
    },
    {
      "cell_type": "markdown",
      "source": [
        "# 2) Load the data & Transfer COCO to Yolo format"
      ],
      "metadata": {
        "id": "u4gk0qadtkwm"
      }
    },
    {
      "cell_type": "markdown",
      "source": [
        "### 데이터 업로드 (디렉토리 세팅 포함)"
      ],
      "metadata": {
        "id": "vvD0cgI0Gbi4"
      }
    },
    {
      "cell_type": "code",
      "source": [
        "%cd ../"
      ],
      "metadata": {
        "colab": {
          "base_uri": "https://localhost:8080/"
        },
        "id": "pVmpU5JNtoqm",
        "outputId": "fd84a7ef-604a-4622-c3df-686a26725140"
      },
      "execution_count": 6,
      "outputs": [
        {
          "output_type": "stream",
          "name": "stdout",
          "text": [
            "/content\n"
          ]
        }
      ]
    },
    {
      "cell_type": "code",
      "source": [
        "# # 샘플데이터 업로드\n",
        "\n",
        "# # 로컬에서 파일 업로드\n",
        "# from google.colab import files\n",
        "# uploaded = files.upload()"
      ],
      "metadata": {
        "id": "n3sNlsYcAU4G"
      },
      "execution_count": 7,
      "outputs": []
    },
    {
      "cell_type": "code",
      "source": [
        "# os.mkdir('/content/sample_dataset')\n",
        "# !unzip -qq '/content/sample.zip' -d '/content/yolov5/sample_dataset'"
      ],
      "metadata": {
        "id": "6kVHo4QW0nFr"
      },
      "execution_count": 8,
      "outputs": []
    },
    {
      "cell_type": "code",
      "source": [
        "# 실제데이터 업로드\n",
        "\n",
        "# Google Drive 에서 불러오기\n",
        "from google.colab import drive\n",
        "drive.mount('/content/drive')"
      ],
      "metadata": {
        "colab": {
          "base_uri": "https://localhost:8080/"
        },
        "id": "sTVb0ZSHr-b7",
        "outputId": "8fd5b063-cac1-4235-eb3c-485ed8aef856"
      },
      "execution_count": 9,
      "outputs": [
        {
          "output_type": "stream",
          "name": "stdout",
          "text": [
            "Mounted at /content/drive\n"
          ]
        }
      ]
    },
    {
      "cell_type": "code",
      "source": [
        "os.mkdir('/content/yolov5/dataset')"
      ],
      "metadata": {
        "id": "C4ZyNVVuU783"
      },
      "execution_count": 10,
      "outputs": []
    },
    {
      "cell_type": "code",
      "source": [
        "!unzip -qq '/content/drive/MyDrive/Colab Notebooks/dataset_traffic.zip' -d '/content/yolov5/dataset'"
      ],
      "metadata": {
        "colab": {
          "base_uri": "https://localhost:8080/"
        },
        "id": "RfDDW9aqUibd",
        "outputId": "53c235c8-0748-46c2-9d56-c98ff6ec8a6e"
      },
      "execution_count": 34,
      "outputs": [
        {
          "output_type": "stream",
          "name": "stdout",
          "text": [
            "replace /content/yolov5/dataset/images/train/s01544707.jpg? [y]es, [n]o, [A]ll, [N]one, [r]ename: y\n",
            "replace /content/yolov5/dataset/images/train/s01544708.jpg? [y]es, [n]o, [A]ll, [N]one, [r]ename: a\n",
            "error:  invalid response [a]\n",
            "replace /content/yolov5/dataset/images/train/s01544708.jpg? [y]es, [n]o, [A]ll, [N]one, [r]ename: A\n"
          ]
        }
      ]
    },
    {
      "cell_type": "markdown",
      "source": [
        "train, test 이미지 파일들의 경로 리스트를 txt 파일로 저장"
      ],
      "metadata": {
        "id": "n5VO6_bLnQfm"
      }
    },
    {
      "cell_type": "code",
      "source": [
        "from glob import glob\n",
        "\n",
        "train_img_list = glob('/content/yolov5/dataset/images/train/*.jpg')\n",
        "valid_img_list = glob('/content/yolov5/dataset/images/validation/*.jpg')\n",
        "print(len(train_img_list),len(valid_img_list))"
      ],
      "metadata": {
        "colab": {
          "base_uri": "https://localhost:8080/"
        },
        "id": "ia1hqP3InXtk",
        "outputId": "dd595b5e-9843-4253-9e69-2f6890c816e4"
      },
      "execution_count": 35,
      "outputs": [
        {
          "output_type": "stream",
          "name": "stdout",
          "text": [
            "22177 7400\n"
          ]
        }
      ]
    },
    {
      "cell_type": "code",
      "source": [
        "# txt 파일로 위 변수 리스트 저장\n",
        "\n",
        "with open('/content/yolov5/dataset/train.txt', 'w') as f:\n",
        "    f.write('\\n'.join(train_img_list) + '\\n')\n",
        "\n",
        "with open('/content/yolov5/dataset/val.txt', 'w') as f:\n",
        "    f.write('\\n'.join(valid_img_list) + '\\n')"
      ],
      "metadata": {
        "id": "Avp-18IJoIIM"
      },
      "execution_count": 36,
      "outputs": []
    },
    {
      "cell_type": "markdown",
      "source": [
        "### Json 파일을 Yolo Format으로 변환"
      ],
      "metadata": {
        "id": "TzcXHkVhcZho"
      }
    },
    {
      "cell_type": "code",
      "source": [
        "json_path_list = glob('/content/yolov5/dataset/labels/*/*.json')\n",
        "len(json_path_list) # json 파일 개수 확인"
      ],
      "metadata": {
        "colab": {
          "base_uri": "https://localhost:8080/"
        },
        "id": "nPZMViso7bux",
        "outputId": "6e8378da-1f97-453d-f7ed-a13bf504bfe5"
      },
      "execution_count": 37,
      "outputs": [
        {
          "output_type": "execute_result",
          "data": {
            "text/plain": [
              "29577"
            ]
          },
          "metadata": {},
          "execution_count": 37
        }
      ]
    },
    {
      "cell_type": "code",
      "source": [
        "# json 파일의 내용 형태 확인\n",
        "# import pprint\n",
        "\n",
        "# tmp = []\n",
        "# for json_path in json_path_list[:2]:\n",
        "#     print(json_path)\n",
        "#     with open(json_path, \"r\") as jsondata:\n",
        "#         json_data = json.load(jsondata)\n",
        "#     tmp.append(json_data)\n",
        "# pprint.pprint(tmp[0])\n",
        "# pprint.pprint(tmp[1])"
      ],
      "metadata": {
        "colab": {
          "base_uri": "https://localhost:8080/"
        },
        "id": "wzvlpqyl-TnI",
        "outputId": "a99a2d53-5b56-4cc2-9e9b-cd05b827c41c"
      },
      "execution_count": 15,
      "outputs": [
        {
          "output_type": "stream",
          "name": "stdout",
          "text": [
            "/content/yolov5/dataset/labels/validation/s01780640.json\n",
            "/content/yolov5/dataset/labels/validation/s01801726.json\n",
            "{'annotation': [{'box': [940, 194, 959, 215],\n",
            "                 'class': 'traffic_sign',\n",
            "                 'color': 'blue',\n",
            "                 'kind': 'normal',\n",
            "                 'shape': 'triangle',\n",
            "                 'text': '0',\n",
            "                 'type': 'instruction'},\n",
            "                {'attribute': [{'green': 'on',\n",
            "                                'left_arrow': 'off',\n",
            "                                'others_arrow': 'off',\n",
            "                                'red': 'off',\n",
            "                                'x_light': 'off',\n",
            "                                'yellow': 'off'}],\n",
            "                 'box': [729, 152, 757, 160],\n",
            "                 'class': 'traffic_light',\n",
            "                 'direction': 'horizontal',\n",
            "                 'light_count': '4',\n",
            "                 'type': 'car'}],\n",
            " 'image': {'filename': 's01780640.jpg', 'imsize': [1280, 720]}}\n",
            "{'annotation': [{'attribute': [{'green': 'off',\n",
            "                                'left_arrow': 'off',\n",
            "                                'others_arrow': 'off',\n",
            "                                'red': 'off',\n",
            "                                'x_light': 'off',\n",
            "                                'yellow': 'off'}],\n",
            "                 'box': [647, 335, 656, 345],\n",
            "                 'class': 'traffic_light',\n",
            "                 'direction': 'vertical',\n",
            "                 'light_count': 'unknown',\n",
            "                 'type': 'unknown'},\n",
            "                {'attribute': [{'green': 'off',\n",
            "                                'left_arrow': 'off',\n",
            "                                'others_arrow': 'off',\n",
            "                                'red': 'off',\n",
            "                                'x_light': 'off',\n",
            "                                'yellow': 'off'}],\n",
            "                 'box': [628, 350, 638, 361],\n",
            "                 'class': 'traffic_light',\n",
            "                 'direction': 'vertical',\n",
            "                 'light_count': 'unknown',\n",
            "                 'type': 'unknown'},\n",
            "                {'attribute': [{'green': 'off',\n",
            "                                'left_arrow': 'off',\n",
            "                                'others_arrow': 'off',\n",
            "                                'red': 'off',\n",
            "                                'x_light': 'off',\n",
            "                                'yellow': 'off'}],\n",
            "                 'box': [677, 365, 690, 380],\n",
            "                 'class': 'traffic_light',\n",
            "                 'direction': 'vertical',\n",
            "                 'light_count': 'unknown',\n",
            "                 'type': 'unknown'},\n",
            "                {'attribute': [{'green': 'on',\n",
            "                                'left_arrow': 'off',\n",
            "                                'others_arrow': 'off',\n",
            "                                'red': 'off',\n",
            "                                'x_light': 'off',\n",
            "                                'yellow': 'off'}],\n",
            "                 'box': [615, 327, 639, 336],\n",
            "                 'class': 'traffic_light',\n",
            "                 'direction': 'horizontal',\n",
            "                 'light_count': '3',\n",
            "                 'type': 'car'},\n",
            "                {'attribute': [{'green': 'on',\n",
            "                                'left_arrow': 'off',\n",
            "                                'others_arrow': 'off',\n",
            "                                'red': 'off',\n",
            "                                'x_light': 'off',\n",
            "                                'yellow': 'off'}],\n",
            "                 'box': [609, 362, 625, 366],\n",
            "                 'class': 'traffic_light',\n",
            "                 'direction': 'horizontal',\n",
            "                 'light_count': '3',\n",
            "                 'type': 'car'},\n",
            "                {'attribute': [{'green': 'on',\n",
            "                                'left_arrow': 'off',\n",
            "                                'others_arrow': 'off',\n",
            "                                'red': 'off',\n",
            "                                'x_light': 'off',\n",
            "                                'yellow': 'off'}],\n",
            "                 'box': [642, 358, 658, 365],\n",
            "                 'class': 'traffic_light',\n",
            "                 'direction': 'horizontal',\n",
            "                 'light_count': '3',\n",
            "                 'type': 'car'}],\n",
            " 'image': {'filename': 's01801726.jpg', 'imsize': [1280, 720]}}\n"
          ]
        }
      ]
    },
    {
      "cell_type": "code",
      "source": [
        "def convert(size, box): #box: coco형식 xmin , ymin , w , h\n",
        "    dw = 1/size[0]\n",
        "    dh = 1/size[1]\n",
        "    w = box[2]-box[0]\n",
        "    h = box[3]-box[1]\n",
        "    x = box[0]+ w/2\n",
        "    y = box[1]+ h/2\n",
        "    x = round(x*dw,6)\n",
        "    w = round(w*dw,6)\n",
        "    y = round(y*dh,6)\n",
        "    h = round(h*dh,6)\n",
        "    if w <0 or h < 0:\n",
        "        return False\n",
        "    return (x,y,w,h)"
      ],
      "metadata": {
        "id": "jWftFbdCeJUM"
      },
      "execution_count": 17,
      "outputs": []
    },
    {
      "cell_type": "code",
      "source": [
        "print(f'label 파일(json) 개수 : {len(json_path_list)}')\n",
        "size = [1280,720]\n",
        "class_names = []\n",
        "for json_path in tqdm(json_path_list):\n",
        "    with open(json_path, \"r\") as f:\n",
        "        json_data = json.load(f)\n",
        "    label_path = json_path.replace('.json','.txt')\n",
        "    # img_path = json_path.replace('/labels','/images').replace('.json','.jpg') # 확인용\n",
        "    # img = Image(img_path)\n",
        "    # display(img)\n",
        "\n",
        "    for d in json_data[\"annotation\"]:\n",
        "        box = d['box']\n",
        "        bb = convert(size, box) # x0,y0,x1,y1 to x,y,w,h\n",
        "        if bb==False:\n",
        "            continue\n",
        "\n",
        "        cls = d['class']\n",
        "        if cls not in class_names:\n",
        "            class_names.append(cls)\n",
        "\n",
        "        line = f'{class_names.index(cls)} {bb[0]} {bb[1]} {bb[2]} {bb[3]}\\n'\n",
        "        with open(label_path, 'a') as f:\n",
        "            f.write(line)\n",
        "        \n",
        "    shutil.move(json_path, '/content/yolov5/dataset/json_labels') # json 파일은 다른 폴더로 이동\n",
        "\n",
        "label_path_list = glob(\"/content/yolov5/dataset/labels/*/*.txt\")\n",
        "print(f'변환후 label 파일(txt) 개수 : {len(label_path_list)}') # no objects in image, no *.txt file\n"
      ],
      "metadata": {
        "colab": {
          "base_uri": "https://localhost:8080/",
          "height": 286
        },
        "id": "zsE2acuUbO8v",
        "outputId": "812fd405-6b2a-410a-8b2d-0b810b81be8d"
      },
      "execution_count": 39,
      "outputs": [
        {
          "output_type": "stream",
          "name": "stdout",
          "text": [
            "label 파일(json) 개수 : 29577\n"
          ]
        },
        {
          "output_type": "stream",
          "name": "stderr",
          "text": [
            "  0%|          | 0/29577 [00:00<?, ?it/s]\n"
          ]
        },
        {
          "output_type": "error",
          "ename": "FileNotFoundError",
          "evalue": "ignored",
          "traceback": [
            "\u001b[0;31m---------------------------------------------------------------------------\u001b[0m",
            "\u001b[0;31mFileNotFoundError\u001b[0m                         Traceback (most recent call last)",
            "\u001b[0;32m<ipython-input-39-b951a02151ab>\u001b[0m in \u001b[0;36m<module>\u001b[0;34m\u001b[0m\n\u001b[1;32m      3\u001b[0m \u001b[0mclass_names\u001b[0m \u001b[0;34m=\u001b[0m \u001b[0;34m[\u001b[0m\u001b[0;34m]\u001b[0m\u001b[0;34m\u001b[0m\u001b[0;34m\u001b[0m\u001b[0m\n\u001b[1;32m      4\u001b[0m \u001b[0;32mfor\u001b[0m \u001b[0mjson_path\u001b[0m \u001b[0;32min\u001b[0m \u001b[0mtqdm\u001b[0m\u001b[0;34m(\u001b[0m\u001b[0mjson_path_list\u001b[0m\u001b[0;34m)\u001b[0m\u001b[0;34m:\u001b[0m\u001b[0;34m\u001b[0m\u001b[0;34m\u001b[0m\u001b[0m\n\u001b[0;32m----> 5\u001b[0;31m     \u001b[0;32mwith\u001b[0m \u001b[0mopen\u001b[0m\u001b[0;34m(\u001b[0m\u001b[0mjson_path\u001b[0m\u001b[0;34m,\u001b[0m \u001b[0;34m\"r\"\u001b[0m\u001b[0;34m)\u001b[0m \u001b[0;32mas\u001b[0m \u001b[0mf\u001b[0m\u001b[0;34m:\u001b[0m\u001b[0;34m\u001b[0m\u001b[0;34m\u001b[0m\u001b[0m\n\u001b[0m\u001b[1;32m      6\u001b[0m         \u001b[0mjson_data\u001b[0m \u001b[0;34m=\u001b[0m \u001b[0mjson\u001b[0m\u001b[0;34m.\u001b[0m\u001b[0mload\u001b[0m\u001b[0;34m(\u001b[0m\u001b[0mf\u001b[0m\u001b[0;34m)\u001b[0m\u001b[0;34m\u001b[0m\u001b[0;34m\u001b[0m\u001b[0m\n\u001b[1;32m      7\u001b[0m     \u001b[0mlabel_path\u001b[0m \u001b[0;34m=\u001b[0m \u001b[0mjson_path\u001b[0m\u001b[0;34m.\u001b[0m\u001b[0mreplace\u001b[0m\u001b[0;34m(\u001b[0m\u001b[0;34m'.json'\u001b[0m\u001b[0;34m,\u001b[0m\u001b[0;34m'.txt'\u001b[0m\u001b[0;34m)\u001b[0m\u001b[0;34m\u001b[0m\u001b[0;34m\u001b[0m\u001b[0m\n",
            "\u001b[0;31mFileNotFoundError\u001b[0m: [Errno 2] No such file or directory: '/content/yolov5/dataset/labels/validation/s01780640.json'"
          ]
        }
      ]
    },
    {
      "cell_type": "code",
      "source": [
        "len(glob(\"/content/yolov5/dataset/labels/*/*.json\"))"
      ],
      "metadata": {
        "colab": {
          "base_uri": "https://localhost:8080/"
        },
        "id": "45MiY4Fk39fq",
        "outputId": "7fd6e54a-e494-452a-abec-3a05aac7415a"
      },
      "execution_count": 32,
      "outputs": [
        {
          "output_type": "execute_result",
          "data": {
            "text/plain": [
              "0"
            ]
          },
          "metadata": {},
          "execution_count": 32
        }
      ]
    },
    {
      "cell_type": "code",
      "source": [
        "# 변환됐는지 확인\n",
        "with open(label_path, \"r\") as f:\n",
        "    while True:\n",
        "        ln = f.readline()\n",
        "        if not ln:\n",
        "            break\n",
        "        print(ln)"
      ],
      "metadata": {
        "colab": {
          "base_uri": "https://localhost:8080/"
        },
        "id": "ggF3PM33tgdh",
        "outputId": "a8db0055-b9d7-407f-886d-250949d24846"
      },
      "execution_count": 27,
      "outputs": [
        {
          "output_type": "stream",
          "name": "stdout",
          "text": [
            "0 0.48125 0.179167 0.0625 0.077778\n",
            "\n",
            "1 0.471875 0.294444 0.0125 0.005556\n",
            "\n",
            "1 0.502734 0.290278 0.013281 0.005556\n",
            "\n"
          ]
        }
      ]
    },
    {
      "cell_type": "markdown",
      "source": [
        "# 3) yaml 파일 만들기\n"
      ],
      "metadata": {
        "id": "QEizDxg3YTFA"
      }
    },
    {
      "cell_type": "code",
      "source": [
        "# Create dataset.yaml file \n",
        "yaml_dict = {'train': 'content/yolov5/dataset/train.txt',   # path to the train folder\n",
        "            'val': 'content/yolov5/dataset/val.txt', # path to the val folder\n",
        "            'nc': 2,                             # number of classes\n",
        "            'names': ['traffic_sign', 'traffic_light']}         # list of label names\n",
        "\n",
        "# we will make the file under the yolov5/data/ directory.\n",
        "data_yaml = '/content/yolov5/dataset/dataset.yaml'\n",
        "with open(data_yaml, 'w') as f:\n",
        "    yaml.dump(yaml_dict, f, default_flow_style=True)"
      ],
      "metadata": {
        "id": "r5cNrDIhr0do"
      },
      "execution_count": 28,
      "outputs": []
    },
    {
      "cell_type": "code",
      "source": [
        "%cat '/content/yolov5/dataset/dataset.yaml' # show your YAML file"
      ],
      "metadata": {
        "colab": {
          "base_uri": "https://localhost:8080/"
        },
        "id": "UYfJs5GB32DP",
        "outputId": "1a93385a-5b54-48d9-96ce-83bdf4daa508"
      },
      "execution_count": 29,
      "outputs": [
        {
          "output_type": "stream",
          "name": "stdout",
          "text": [
            "{names: [traffic_sign, traffic_light], nc: 2, train: content/yolov5/dataset/train.txt,\n",
            "  val: content/yolov5/dataset/val.txt}\n"
          ]
        }
      ]
    },
    {
      "cell_type": "code",
      "source": [
        "# # 다른 방법\n",
        "\n",
        "# # 사용할 데이터셋 경로 및 데이터셋의 yaml 파일 경로 지정\n",
        "# data_dir = '/content/dataset'\n",
        "# data_yaml = '/content/dataset/dataset.yaml'\n",
        "\n",
        "# # 데이터셋 yaml 파일 확인 \n",
        "# with open(data_yaml) as f:\n",
        "#     film = yaml.load(f, Loader=yaml.FullLoader)\n",
        "#     display(film)"
      ],
      "metadata": {
        "id": "mz3UpBCZssJO"
      },
      "execution_count": 18,
      "outputs": []
    },
    {
      "cell_type": "code",
      "source": [
        "# # yaml 파일의 train, val 데이터가 있는 경로 수정 (기존 경로 -> 구글 드라이브에 저장된 경로로)\n",
        "# film['train'] = '/content/dataset/train/images'\n",
        "# film['val'] = '/content/dataset/validation/images'\n",
        "\n",
        "# with open(data_yaml, 'w') as f:\n",
        "#     yaml.dump(film, f)\n",
        "\n",
        "# print('변경된 yaml 파일 :')\n",
        "# with open(data_yaml) as f:\n",
        "#     film = yaml.load(f, Loader=yaml.FullLoader)\n",
        "#     display(film)"
      ],
      "metadata": {
        "id": "fBR-6XrZqqNA"
      },
      "execution_count": null,
      "outputs": []
    },
    {
      "cell_type": "markdown",
      "source": [
        "# 4) 모델 구성"
      ],
      "metadata": {
        "id": "LgTBdfPv4pok"
      }
    },
    {
      "cell_type": "markdown",
      "source": [
        "# 5) 모델 학습"
      ],
      "metadata": {
        "id": "RN47RMii4Xt9"
      }
    },
    {
      "cell_type": "code",
      "source": [],
      "metadata": {
        "id": "b8em_3Dp4XEV"
      },
      "execution_count": null,
      "outputs": []
    },
    {
      "cell_type": "code",
      "source": [],
      "metadata": {
        "id": "YhOWw2yF4W14"
      },
      "execution_count": null,
      "outputs": []
    },
    {
      "cell_type": "markdown",
      "source": [
        "Weights and Biases Logging"
      ],
      "metadata": {
        "id": "vGWx2ITrxH5-"
      }
    },
    {
      "cell_type": "code",
      "source": [
        "%load_ext tensorboard\n",
        "%tensorboard --logdir /kaggle/training/yolov5/runs"
      ],
      "metadata": {
        "id": "ANBBSAZexXZO"
      },
      "execution_count": null,
      "outputs": []
    },
    {
      "cell_type": "code",
      "source": [
        "# Install W&B \n",
        "%pip install -q --upgrade wandb\n",
        "# Login with token, follow with the guide\n",
        "import wandb\n",
        "wandb.login()"
      ],
      "metadata": {
        "id": "PFrq4svoxkg0"
      },
      "execution_count": null,
      "outputs": []
    },
    {
      "cell_type": "code",
      "source": [
        "from glob import glob"
      ],
      "metadata": {
        "id": "rrDXhmZwXddP"
      },
      "execution_count": 2,
      "outputs": []
    }
  ]
}